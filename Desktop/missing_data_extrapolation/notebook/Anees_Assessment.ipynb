{
 "cells": [
  {
   "cell_type": "markdown",
   "metadata": {},
   "source": [
    "Overview:"
   ]
  },
  {
   "cell_type": "markdown",
   "metadata": {},
   "source": [
    "Definition: Extrapolation is when you make a guess about something outside the range of the data you already have, based on patterns you've seen."
   ]
  },
  {
   "cell_type": "markdown",
   "metadata": {},
   "source": [
    "Why I used these models and libraries for this task"
   ]
  },
  {
   "cell_type": "markdown",
   "metadata": {},
   "source": [
    "I used Pandas and NumPy for efficient data manipulation, missing value detection, and preprocessing tasks such as feature transformation and cleaning. For extrapolating missing values, I employed Ridge Regression for continuous variables like yob and RandomForestClassifier for categorical variables like gender and zipcode. Ridge Regression offers a regularized linear approach that mitigates overfitting and handles multicollinearity well, making it ideal for predicting numerical values. Random Forest, as an ensemble model, captures complex feature interactions, handles both categorical and numerical data, and performs robustly even with noisy or imbalanced datasets. I used scikitlearn’s ColumnTransformer, StandardScaler, and OneHotEncoder to build preprocessing pipelines tailored to mixed feature types, while LabelEncoder ensured compatibility for categorical variables in classification tasks. "
   ]
  },
  {
   "cell_type": "markdown",
   "metadata": {},
   "source": [
    "Why I used RMSE, accuracy, precision and F1 score?"
   ]
  },
  {
   "cell_type": "markdown",
   "metadata": {},
   "source": [
    "Model performance was evaluated using appropriate metrics RMSE for regression and Accuracy, Precision, and F1 Score for classification—ensuring reliable and interpretable imputation results."
   ]
  },
  {
   "cell_type": "markdown",
   "metadata": {},
   "source": [
    "How yob is predicted and filled ?\n"
   ]
  },
  {
   "cell_type": "markdown",
   "metadata": {},
   "source": [
    "To predict yob I used ridge model for the better performance, or the results.\n",
    "The range in the given data of yob was from 1900-1999. To purpose of extrapolation was to get the data from beyond the range.\n",
    "After the results I observed that in my dataset I have yob range from 1900-2001 so that means the data I am getting now is predicting future values.\n",
    "I have also try to solve it with GradientBoostingRegressor but the values after result were not satisfying like it gave the result of past. The range of dataset was 1895-1999. The RMSE was 12.96. But with ridge regression RMSE is around 10. So that means now I am getting better results than before."
   ]
  },
  {
   "cell_type": "markdown",
   "metadata": {},
   "source": [
    "How is 'gender' Predicted and Filled?"
   ]
  },
  {
   "cell_type": "markdown",
   "metadata": {},
   "source": [
    "By using RandomForestClassifier method \n",
    "Why I used Random Forest?\n",
    "1. Handles non-linear relationships well.\n",
    "2. Works out of the box with categorical variables (after Label Encoding).\n",
    "3. Robust against overfitting (with max_depth and balanced class weight)."
   ]
  },
  {
   "cell_type": "markdown",
   "metadata": {},
   "source": [
    "How is I handled zipcode column"
   ]
  },
  {
   "cell_type": "markdown",
   "metadata": {},
   "source": [
    "RandomForestClassifier: Zipcode behaves like a categorical variable and Random Forest can capture patterns in location, demographics, or other attributes to infer missing zipcodes.\n",
    "There were some values in the zipcode which was 0. So i had to perform 2 tasks on zipcode. \n",
    "1. to remove 0's because I considered them as missing values and than to predict them for the better results.\n",
    "2. To predict the missing values in the zipcode make sure that the format of zipcode must be same. As there were some zipcode which has 0 in the beginning.\n",
    "I make sure after the results that the zipcode format is not changed."
   ]
  },
  {
   "cell_type": "markdown",
   "metadata": {},
   "source": [
    "Importing the libraries"
   ]
  },
  {
   "cell_type": "code",
   "execution_count": 73,
   "metadata": {},
   "outputs": [],
   "source": [
    "import pandas as pd\n",
    "import numpy as np\n",
    "from sklearn.pipeline import make_pipeline\n",
    "from sklearn.linear_model import Ridge\n",
    "from sklearn.preprocessing import StandardScaler, OneHotEncoder, LabelEncoder\n",
    "from sklearn.compose import ColumnTransformer\n",
    "from sklearn.ensemble import RandomForestClassifier\n",
    "from sklearn.metrics import mean_squared_error, accuracy_score, precision_score, f1_score\n",
    "import warnings\n",
    "\n",
    "warnings.filterwarnings(\"ignore\")"
   ]
  },
  {
   "cell_type": "markdown",
   "metadata": {},
   "source": [
    "Loading the dataset"
   ]
  },
  {
   "cell_type": "code",
   "execution_count": 74,
   "metadata": {},
   "outputs": [],
   "source": [
    "file_path = r\"C:\\Users\\musta\\Desktop\\Costory_Anees_Ahmad\\dataset\\user_exo_2M.csv\"\n",
    "df = pd.read_csv(file_path)"
   ]
  },
  {
   "cell_type": "markdown",
   "metadata": {},
   "source": [
    "To show first 20 rows of dataset"
   ]
  },
  {
   "cell_type": "code",
   "execution_count": 75,
   "metadata": {},
   "outputs": [
    {
     "data": {
      "text/html": [
       "<div>\n",
       "<style scoped>\n",
       "    .dataframe tbody tr th:only-of-type {\n",
       "        vertical-align: middle;\n",
       "    }\n",
       "\n",
       "    .dataframe tbody tr th {\n",
       "        vertical-align: top;\n",
       "    }\n",
       "\n",
       "    .dataframe thead th {\n",
       "        text-align: right;\n",
       "    }\n",
       "</style>\n",
       "<table border=\"1\" class=\"dataframe\">\n",
       "  <thead>\n",
       "    <tr style=\"text-align: right;\">\n",
       "      <th></th>\n",
       "      <th>yob</th>\n",
       "      <th>domain</th>\n",
       "      <th>firstname</th>\n",
       "      <th>zipcode</th>\n",
       "      <th>gender</th>\n",
       "    </tr>\n",
       "  </thead>\n",
       "  <tbody>\n",
       "    <tr>\n",
       "      <th>0</th>\n",
       "      <td>1985</td>\n",
       "      <td>@wanadoo.fr</td>\n",
       "      <td>b08253b305fb5ec</td>\n",
       "      <td>94450.0</td>\n",
       "      <td>F</td>\n",
       "    </tr>\n",
       "    <tr>\n",
       "      <th>1</th>\n",
       "      <td>1961</td>\n",
       "      <td>@sfr.fr</td>\n",
       "      <td>7ff135854376850</td>\n",
       "      <td>78580.0</td>\n",
       "      <td>M</td>\n",
       "    </tr>\n",
       "    <tr>\n",
       "      <th>2</th>\n",
       "      <td>1977</td>\n",
       "      <td>@free.fr</td>\n",
       "      <td>172522ec1028ab7</td>\n",
       "      <td>62640.0</td>\n",
       "      <td>NaN</td>\n",
       "    </tr>\n",
       "    <tr>\n",
       "      <th>3</th>\n",
       "      <td>-1</td>\n",
       "      <td>@hotmail.com</td>\n",
       "      <td>d3ca5dde60f88db</td>\n",
       "      <td>94100.0</td>\n",
       "      <td>M</td>\n",
       "    </tr>\n",
       "    <tr>\n",
       "      <th>4</th>\n",
       "      <td>-1</td>\n",
       "      <td>@gmail.com</td>\n",
       "      <td>bdaae16837dd576</td>\n",
       "      <td>78100.0</td>\n",
       "      <td>NaN</td>\n",
       "    </tr>\n",
       "    <tr>\n",
       "      <th>5</th>\n",
       "      <td>1975</td>\n",
       "      <td>@wanadoo.fr</td>\n",
       "      <td>57c2877c1d84c4b</td>\n",
       "      <td>92600.0</td>\n",
       "      <td>M</td>\n",
       "    </tr>\n",
       "    <tr>\n",
       "      <th>6</th>\n",
       "      <td>1974</td>\n",
       "      <td>@gmail.com</td>\n",
       "      <td>d47de916cacd0b7</td>\n",
       "      <td>65200.0</td>\n",
       "      <td>M</td>\n",
       "    </tr>\n",
       "    <tr>\n",
       "      <th>7</th>\n",
       "      <td>1957</td>\n",
       "      <td>@free.fr</td>\n",
       "      <td>7ff135854376850</td>\n",
       "      <td>83250.0</td>\n",
       "      <td>NaN</td>\n",
       "    </tr>\n",
       "    <tr>\n",
       "      <th>8</th>\n",
       "      <td>-1</td>\n",
       "      <td>@live.fr</td>\n",
       "      <td>a5410ee37744c57</td>\n",
       "      <td>5100.0</td>\n",
       "      <td>M</td>\n",
       "    </tr>\n",
       "    <tr>\n",
       "      <th>9</th>\n",
       "      <td>-1</td>\n",
       "      <td>@wanadoo.fr</td>\n",
       "      <td>60784186ea5b29f</td>\n",
       "      <td>68300.0</td>\n",
       "      <td>NaN</td>\n",
       "    </tr>\n",
       "    <tr>\n",
       "      <th>10</th>\n",
       "      <td>1961</td>\n",
       "      <td>@gmail.com</td>\n",
       "      <td>aa47f8215c6f30a</td>\n",
       "      <td>67380.0</td>\n",
       "      <td>M</td>\n",
       "    </tr>\n",
       "    <tr>\n",
       "      <th>11</th>\n",
       "      <td>1976</td>\n",
       "      <td>@yahoo.fr</td>\n",
       "      <td>66aad1c91c97f58</td>\n",
       "      <td>94250.0</td>\n",
       "      <td>M</td>\n",
       "    </tr>\n",
       "    <tr>\n",
       "      <th>12</th>\n",
       "      <td>1980</td>\n",
       "      <td>@wanadoo.fr</td>\n",
       "      <td>d9fee41b5836f7e</td>\n",
       "      <td>33600.0</td>\n",
       "      <td>NaN</td>\n",
       "    </tr>\n",
       "    <tr>\n",
       "      <th>13</th>\n",
       "      <td>-1</td>\n",
       "      <td>@free.fr</td>\n",
       "      <td>d780182f77b1214</td>\n",
       "      <td>24100.0</td>\n",
       "      <td>M</td>\n",
       "    </tr>\n",
       "    <tr>\n",
       "      <th>14</th>\n",
       "      <td>-1</td>\n",
       "      <td>@yahoo.com</td>\n",
       "      <td>0d0de813c110549</td>\n",
       "      <td>75004.0</td>\n",
       "      <td>NaN</td>\n",
       "    </tr>\n",
       "    <tr>\n",
       "      <th>15</th>\n",
       "      <td>1972</td>\n",
       "      <td>@hotmail.com</td>\n",
       "      <td>f7885ad36a637f4</td>\n",
       "      <td>6200.0</td>\n",
       "      <td>M</td>\n",
       "    </tr>\n",
       "    <tr>\n",
       "      <th>16</th>\n",
       "      <td>1972</td>\n",
       "      <td>@free.fr</td>\n",
       "      <td>18c3abc1b9dba53</td>\n",
       "      <td>33400.0</td>\n",
       "      <td>F</td>\n",
       "    </tr>\n",
       "    <tr>\n",
       "      <th>17</th>\n",
       "      <td>1965</td>\n",
       "      <td>@free.fr</td>\n",
       "      <td>2bb010060d682fe</td>\n",
       "      <td>31100.0</td>\n",
       "      <td>NaN</td>\n",
       "    </tr>\n",
       "    <tr>\n",
       "      <th>18</th>\n",
       "      <td>-1</td>\n",
       "      <td>@orange.fr</td>\n",
       "      <td>6f31afdd1748f40</td>\n",
       "      <td>74350.0</td>\n",
       "      <td>M</td>\n",
       "    </tr>\n",
       "    <tr>\n",
       "      <th>19</th>\n",
       "      <td>-1</td>\n",
       "      <td>@club-internet.fr</td>\n",
       "      <td>2a4ac4d8e4ebdf7</td>\n",
       "      <td>65200.0</td>\n",
       "      <td>NaN</td>\n",
       "    </tr>\n",
       "  </tbody>\n",
       "</table>\n",
       "</div>"
      ],
      "text/plain": [
       "     yob             domain        firstname  zipcode gender\n",
       "0   1985        @wanadoo.fr  b08253b305fb5ec  94450.0      F\n",
       "1   1961            @sfr.fr  7ff135854376850  78580.0      M\n",
       "2   1977           @free.fr  172522ec1028ab7  62640.0    NaN\n",
       "3     -1       @hotmail.com  d3ca5dde60f88db  94100.0      M\n",
       "4     -1         @gmail.com  bdaae16837dd576  78100.0    NaN\n",
       "5   1975        @wanadoo.fr  57c2877c1d84c4b  92600.0      M\n",
       "6   1974         @gmail.com  d47de916cacd0b7  65200.0      M\n",
       "7   1957           @free.fr  7ff135854376850  83250.0    NaN\n",
       "8     -1           @live.fr  a5410ee37744c57   5100.0      M\n",
       "9     -1        @wanadoo.fr  60784186ea5b29f  68300.0    NaN\n",
       "10  1961         @gmail.com  aa47f8215c6f30a  67380.0      M\n",
       "11  1976          @yahoo.fr  66aad1c91c97f58  94250.0      M\n",
       "12  1980        @wanadoo.fr  d9fee41b5836f7e  33600.0    NaN\n",
       "13    -1           @free.fr  d780182f77b1214  24100.0      M\n",
       "14    -1         @yahoo.com  0d0de813c110549  75004.0    NaN\n",
       "15  1972       @hotmail.com  f7885ad36a637f4   6200.0      M\n",
       "16  1972           @free.fr  18c3abc1b9dba53  33400.0      F\n",
       "17  1965           @free.fr  2bb010060d682fe  31100.0    NaN\n",
       "18    -1         @orange.fr  6f31afdd1748f40  74350.0      M\n",
       "19    -1  @club-internet.fr  2a4ac4d8e4ebdf7  65200.0    NaN"
      ]
     },
     "execution_count": 75,
     "metadata": {},
     "output_type": "execute_result"
    }
   ],
   "source": [
    "df.head(20)"
   ]
  },
  {
   "cell_type": "markdown",
   "metadata": {},
   "source": [
    "To find how many values are missing in the columns"
   ]
  },
  {
   "cell_type": "markdown",
   "metadata": {},
   "source": [
    "Printing last 20 rows of dataset"
   ]
  },
  {
   "cell_type": "code",
   "execution_count": 76,
   "metadata": {},
   "outputs": [
    {
     "data": {
      "text/html": [
       "<div>\n",
       "<style scoped>\n",
       "    .dataframe tbody tr th:only-of-type {\n",
       "        vertical-align: middle;\n",
       "    }\n",
       "\n",
       "    .dataframe tbody tr th {\n",
       "        vertical-align: top;\n",
       "    }\n",
       "\n",
       "    .dataframe thead th {\n",
       "        text-align: right;\n",
       "    }\n",
       "</style>\n",
       "<table border=\"1\" class=\"dataframe\">\n",
       "  <thead>\n",
       "    <tr style=\"text-align: right;\">\n",
       "      <th></th>\n",
       "      <th>yob</th>\n",
       "      <th>domain</th>\n",
       "      <th>firstname</th>\n",
       "      <th>zipcode</th>\n",
       "      <th>gender</th>\n",
       "    </tr>\n",
       "  </thead>\n",
       "  <tbody>\n",
       "    <tr>\n",
       "      <th>1999980</th>\n",
       "      <td>1964</td>\n",
       "      <td>@hotmail.com</td>\n",
       "      <td>0d0de813c110549</td>\n",
       "      <td>62240.0</td>\n",
       "      <td>M</td>\n",
       "    </tr>\n",
       "    <tr>\n",
       "      <th>1999981</th>\n",
       "      <td>1957</td>\n",
       "      <td>@gmail.com</td>\n",
       "      <td>8a94bdfc825df46</td>\n",
       "      <td>74000.0</td>\n",
       "      <td>F</td>\n",
       "    </tr>\n",
       "    <tr>\n",
       "      <th>1999982</th>\n",
       "      <td>1958</td>\n",
       "      <td>@gmail.com</td>\n",
       "      <td>b67ef00bdcc7f86</td>\n",
       "      <td>31700.0</td>\n",
       "      <td>NaN</td>\n",
       "    </tr>\n",
       "    <tr>\n",
       "      <th>1999983</th>\n",
       "      <td>-1</td>\n",
       "      <td>@orange.fr</td>\n",
       "      <td>dee484ff7366319</td>\n",
       "      <td>92000.0</td>\n",
       "      <td>F</td>\n",
       "    </tr>\n",
       "    <tr>\n",
       "      <th>1999984</th>\n",
       "      <td>-1</td>\n",
       "      <td>@gmail.com</td>\n",
       "      <td>11619bf6d82bf8f</td>\n",
       "      <td>94460.0</td>\n",
       "      <td>NaN</td>\n",
       "    </tr>\n",
       "    <tr>\n",
       "      <th>1999985</th>\n",
       "      <td>1999</td>\n",
       "      <td>@gmail.com</td>\n",
       "      <td>083af24243207a8</td>\n",
       "      <td>59260.0</td>\n",
       "      <td>F</td>\n",
       "    </tr>\n",
       "    <tr>\n",
       "      <th>1999986</th>\n",
       "      <td>1973</td>\n",
       "      <td>@free.fr</td>\n",
       "      <td>84675f2baf71400</td>\n",
       "      <td>13013.0</td>\n",
       "      <td>M</td>\n",
       "    </tr>\n",
       "    <tr>\n",
       "      <th>1999987</th>\n",
       "      <td>1994</td>\n",
       "      <td>@hotmail.fr</td>\n",
       "      <td>b55050b2f605b7c</td>\n",
       "      <td>77550.0</td>\n",
       "      <td>NaN</td>\n",
       "    </tr>\n",
       "    <tr>\n",
       "      <th>1999988</th>\n",
       "      <td>-1</td>\n",
       "      <td>@gmail.com</td>\n",
       "      <td>c3dae848d72c51c</td>\n",
       "      <td>59710.0</td>\n",
       "      <td>F</td>\n",
       "    </tr>\n",
       "    <tr>\n",
       "      <th>1999989</th>\n",
       "      <td>-1</td>\n",
       "      <td>@sfr.fr</td>\n",
       "      <td>e409f05a10574ad</td>\n",
       "      <td>85200.0</td>\n",
       "      <td>NaN</td>\n",
       "    </tr>\n",
       "    <tr>\n",
       "      <th>1999990</th>\n",
       "      <td>1959</td>\n",
       "      <td>@hotmail.fr</td>\n",
       "      <td>afe3bd960b4c46a</td>\n",
       "      <td>22100.0</td>\n",
       "      <td>F</td>\n",
       "    </tr>\n",
       "    <tr>\n",
       "      <th>1999991</th>\n",
       "      <td>1998</td>\n",
       "      <td>@icloud.com</td>\n",
       "      <td>23f88ac14feead9</td>\n",
       "      <td>91350.0</td>\n",
       "      <td>F</td>\n",
       "    </tr>\n",
       "    <tr>\n",
       "      <th>1999992</th>\n",
       "      <td>1979</td>\n",
       "      <td>@gmail.com</td>\n",
       "      <td>cb74c183402afe7</td>\n",
       "      <td>75011.0</td>\n",
       "      <td>NaN</td>\n",
       "    </tr>\n",
       "    <tr>\n",
       "      <th>1999993</th>\n",
       "      <td>-1</td>\n",
       "      <td>@gmail.com</td>\n",
       "      <td>2e92d0ae281932f</td>\n",
       "      <td>80090.0</td>\n",
       "      <td>F</td>\n",
       "    </tr>\n",
       "    <tr>\n",
       "      <th>1999994</th>\n",
       "      <td>-1</td>\n",
       "      <td>@orange.fr</td>\n",
       "      <td>56910c52ed70539</td>\n",
       "      <td>38100.0</td>\n",
       "      <td>NaN</td>\n",
       "    </tr>\n",
       "    <tr>\n",
       "      <th>1999995</th>\n",
       "      <td>1994</td>\n",
       "      <td>@gmail.com</td>\n",
       "      <td>09f96867a8dc816</td>\n",
       "      <td>62400.0</td>\n",
       "      <td>F</td>\n",
       "    </tr>\n",
       "    <tr>\n",
       "      <th>1999996</th>\n",
       "      <td>1997</td>\n",
       "      <td>@gmail.com</td>\n",
       "      <td>823fec7a2632ea7</td>\n",
       "      <td>7200.0</td>\n",
       "      <td>M</td>\n",
       "    </tr>\n",
       "    <tr>\n",
       "      <th>1999997</th>\n",
       "      <td>1998</td>\n",
       "      <td>@gmail.com</td>\n",
       "      <td>029f0f59eba0903</td>\n",
       "      <td>21000.0</td>\n",
       "      <td>NaN</td>\n",
       "    </tr>\n",
       "    <tr>\n",
       "      <th>1999998</th>\n",
       "      <td>-1</td>\n",
       "      <td>@hotmail.com</td>\n",
       "      <td>deb97a759ee7b8b</td>\n",
       "      <td>26240.0</td>\n",
       "      <td>M</td>\n",
       "    </tr>\n",
       "    <tr>\n",
       "      <th>1999999</th>\n",
       "      <td>-1</td>\n",
       "      <td>@orange.fr</td>\n",
       "      <td>f11d689dda42279</td>\n",
       "      <td>6670.0</td>\n",
       "      <td>NaN</td>\n",
       "    </tr>\n",
       "  </tbody>\n",
       "</table>\n",
       "</div>"
      ],
      "text/plain": [
       "          yob        domain        firstname  zipcode gender\n",
       "1999980  1964  @hotmail.com  0d0de813c110549  62240.0      M\n",
       "1999981  1957    @gmail.com  8a94bdfc825df46  74000.0      F\n",
       "1999982  1958    @gmail.com  b67ef00bdcc7f86  31700.0    NaN\n",
       "1999983    -1    @orange.fr  dee484ff7366319  92000.0      F\n",
       "1999984    -1    @gmail.com  11619bf6d82bf8f  94460.0    NaN\n",
       "1999985  1999    @gmail.com  083af24243207a8  59260.0      F\n",
       "1999986  1973      @free.fr  84675f2baf71400  13013.0      M\n",
       "1999987  1994   @hotmail.fr  b55050b2f605b7c  77550.0    NaN\n",
       "1999988    -1    @gmail.com  c3dae848d72c51c  59710.0      F\n",
       "1999989    -1       @sfr.fr  e409f05a10574ad  85200.0    NaN\n",
       "1999990  1959   @hotmail.fr  afe3bd960b4c46a  22100.0      F\n",
       "1999991  1998   @icloud.com  23f88ac14feead9  91350.0      F\n",
       "1999992  1979    @gmail.com  cb74c183402afe7  75011.0    NaN\n",
       "1999993    -1    @gmail.com  2e92d0ae281932f  80090.0      F\n",
       "1999994    -1    @orange.fr  56910c52ed70539  38100.0    NaN\n",
       "1999995  1994    @gmail.com  09f96867a8dc816  62400.0      F\n",
       "1999996  1997    @gmail.com  823fec7a2632ea7   7200.0      M\n",
       "1999997  1998    @gmail.com  029f0f59eba0903  21000.0    NaN\n",
       "1999998    -1  @hotmail.com  deb97a759ee7b8b  26240.0      M\n",
       "1999999    -1    @orange.fr  f11d689dda42279   6670.0    NaN"
      ]
     },
     "execution_count": 76,
     "metadata": {},
     "output_type": "execute_result"
    }
   ],
   "source": [
    "df.tail(20)"
   ]
  },
  {
   "cell_type": "markdown",
   "metadata": {},
   "source": [
    "To identify the datatypes of column "
   ]
  },
  {
   "cell_type": "code",
   "execution_count": 77,
   "metadata": {},
   "outputs": [
    {
     "data": {
      "text/html": [
       "<div>\n",
       "<style scoped>\n",
       "    .dataframe tbody tr th:only-of-type {\n",
       "        vertical-align: middle;\n",
       "    }\n",
       "\n",
       "    .dataframe tbody tr th {\n",
       "        vertical-align: top;\n",
       "    }\n",
       "\n",
       "    .dataframe thead th {\n",
       "        text-align: right;\n",
       "    }\n",
       "</style>\n",
       "<table border=\"1\" class=\"dataframe\">\n",
       "  <thead>\n",
       "    <tr style=\"text-align: right;\">\n",
       "      <th></th>\n",
       "      <th>Unique_Values</th>\n",
       "      <th>Data_Type</th>\n",
       "    </tr>\n",
       "  </thead>\n",
       "  <tbody>\n",
       "    <tr>\n",
       "      <th>firstname</th>\n",
       "      <td>15682</td>\n",
       "      <td>object</td>\n",
       "    </tr>\n",
       "    <tr>\n",
       "      <th>zipcode</th>\n",
       "      <td>2315</td>\n",
       "      <td>float64</td>\n",
       "    </tr>\n",
       "    <tr>\n",
       "      <th>yob</th>\n",
       "      <td>85</td>\n",
       "      <td>int64</td>\n",
       "    </tr>\n",
       "    <tr>\n",
       "      <th>domain</th>\n",
       "      <td>43</td>\n",
       "      <td>object</td>\n",
       "    </tr>\n",
       "    <tr>\n",
       "      <th>gender</th>\n",
       "      <td>2</td>\n",
       "      <td>object</td>\n",
       "    </tr>\n",
       "  </tbody>\n",
       "</table>\n",
       "</div>"
      ],
      "text/plain": [
       "           Unique_Values Data_Type\n",
       "firstname          15682    object\n",
       "zipcode             2315   float64\n",
       "yob                   85     int64\n",
       "domain                43    object\n",
       "gender                 2    object"
      ]
     },
     "execution_count": 77,
     "metadata": {},
     "output_type": "execute_result"
    }
   ],
   "source": [
    "unique_summary = df.nunique()\n",
    "dtype_summary = df.dtypes\n",
    "\n",
    "summary_df = pd.DataFrame({\n",
    "    \"Unique_Values\": unique_summary,\n",
    "    \"Data_Type\": dtype_summary\n",
    "})\n",
    "\n",
    "summary_df.sort_values(by=\"Unique_Values\", ascending=False)"
   ]
  },
  {
   "cell_type": "markdown",
   "metadata": {},
   "source": [
    "Showing Missing values "
   ]
  },
  {
   "cell_type": "code",
   "execution_count": 78,
   "metadata": {},
   "outputs": [
    {
     "data": {
      "text/html": [
       "<div>\n",
       "<style scoped>\n",
       "    .dataframe tbody tr th:only-of-type {\n",
       "        vertical-align: middle;\n",
       "    }\n",
       "\n",
       "    .dataframe tbody tr th {\n",
       "        vertical-align: top;\n",
       "    }\n",
       "\n",
       "    .dataframe thead th {\n",
       "        text-align: right;\n",
       "    }\n",
       "</style>\n",
       "<table border=\"1\" class=\"dataframe\">\n",
       "  <thead>\n",
       "    <tr style=\"text-align: right;\">\n",
       "      <th></th>\n",
       "      <th>yob</th>\n",
       "      <th>domain</th>\n",
       "      <th>firstname</th>\n",
       "      <th>zipcode</th>\n",
       "      <th>gender</th>\n",
       "    </tr>\n",
       "  </thead>\n",
       "  <tbody>\n",
       "    <tr>\n",
       "      <th>402</th>\n",
       "      <td>1977</td>\n",
       "      <td>@free.fr</td>\n",
       "      <td>91ab7b369d48cd0</td>\n",
       "      <td>NaN</td>\n",
       "      <td>NaN</td>\n",
       "    </tr>\n",
       "    <tr>\n",
       "      <th>419</th>\n",
       "      <td>-1</td>\n",
       "      <td>@orange.fr</td>\n",
       "      <td>d41d8cd98f00b20</td>\n",
       "      <td>NaN</td>\n",
       "      <td>NaN</td>\n",
       "    </tr>\n",
       "    <tr>\n",
       "      <th>2901</th>\n",
       "      <td>1968</td>\n",
       "      <td>@free.fr</td>\n",
       "      <td>d41d8cd98f00b20</td>\n",
       "      <td>NaN</td>\n",
       "      <td>NaN</td>\n",
       "    </tr>\n",
       "    <tr>\n",
       "      <th>4844</th>\n",
       "      <td>-1</td>\n",
       "      <td>@wanadoo.fr</td>\n",
       "      <td>d41d8cd98f00b20</td>\n",
       "      <td>NaN</td>\n",
       "      <td>NaN</td>\n",
       "    </tr>\n",
       "    <tr>\n",
       "      <th>5030</th>\n",
       "      <td>1970</td>\n",
       "      <td>@netcourrier.com</td>\n",
       "      <td>d41d8cd98f00b20</td>\n",
       "      <td>NaN</td>\n",
       "      <td>M</td>\n",
       "    </tr>\n",
       "    <tr>\n",
       "      <th>12906</th>\n",
       "      <td>1977</td>\n",
       "      <td>@hotmail.com</td>\n",
       "      <td>6cb528d1b005724</td>\n",
       "      <td>NaN</td>\n",
       "      <td>M</td>\n",
       "    </tr>\n",
       "    <tr>\n",
       "      <th>27470</th>\n",
       "      <td>1975</td>\n",
       "      <td>@aliceadsl.fr</td>\n",
       "      <td>2a4ac4d8e4ebdf7</td>\n",
       "      <td>NaN</td>\n",
       "      <td>F</td>\n",
       "    </tr>\n",
       "    <tr>\n",
       "      <th>27497</th>\n",
       "      <td>1981</td>\n",
       "      <td>@yahoo.fr</td>\n",
       "      <td>9b22e8ac450bf8d</td>\n",
       "      <td>NaN</td>\n",
       "      <td>NaN</td>\n",
       "    </tr>\n",
       "    <tr>\n",
       "      <th>27948</th>\n",
       "      <td>-1</td>\n",
       "      <td>@free.fr</td>\n",
       "      <td>8f8c4ba92dab870</td>\n",
       "      <td>NaN</td>\n",
       "      <td>M</td>\n",
       "    </tr>\n",
       "    <tr>\n",
       "      <th>28014</th>\n",
       "      <td>-1</td>\n",
       "      <td>@hotmail.com</td>\n",
       "      <td>c57f431343f100b</td>\n",
       "      <td>NaN</td>\n",
       "      <td>NaN</td>\n",
       "    </tr>\n",
       "    <tr>\n",
       "      <th>28180</th>\n",
       "      <td>1985</td>\n",
       "      <td>@hotmail.com</td>\n",
       "      <td>b71985397688d6f</td>\n",
       "      <td>NaN</td>\n",
       "      <td>M</td>\n",
       "    </tr>\n",
       "    <tr>\n",
       "      <th>28436</th>\n",
       "      <td>1980</td>\n",
       "      <td>@hotmail.com</td>\n",
       "      <td>efb02011d94efa8</td>\n",
       "      <td>NaN</td>\n",
       "      <td>F</td>\n",
       "    </tr>\n",
       "    <tr>\n",
       "      <th>29856</th>\n",
       "      <td>1978</td>\n",
       "      <td>@wanadoo.fr</td>\n",
       "      <td>0acf4539a14b3aa</td>\n",
       "      <td>NaN</td>\n",
       "      <td>M</td>\n",
       "    </tr>\n",
       "    <tr>\n",
       "      <th>30196</th>\n",
       "      <td>1961</td>\n",
       "      <td>@wanadoo.fr</td>\n",
       "      <td>9a6663f1bf0c560</td>\n",
       "      <td>NaN</td>\n",
       "      <td>M</td>\n",
       "    </tr>\n",
       "    <tr>\n",
       "      <th>30321</th>\n",
       "      <td>1900</td>\n",
       "      <td>@aol.com</td>\n",
       "      <td>0cbe7ae50f7d9b5</td>\n",
       "      <td>NaN</td>\n",
       "      <td>F</td>\n",
       "    </tr>\n",
       "    <tr>\n",
       "      <th>30353</th>\n",
       "      <td>-1</td>\n",
       "      <td>@msn.com</td>\n",
       "      <td>26253c50741faa9</td>\n",
       "      <td>NaN</td>\n",
       "      <td>M</td>\n",
       "    </tr>\n",
       "    <tr>\n",
       "      <th>31619</th>\n",
       "      <td>-1</td>\n",
       "      <td>@yahoo.fr</td>\n",
       "      <td>8c08dc529eccf42</td>\n",
       "      <td>NaN</td>\n",
       "      <td>NaN</td>\n",
       "    </tr>\n",
       "    <tr>\n",
       "      <th>31970</th>\n",
       "      <td>1900</td>\n",
       "      <td>@bluewin.ch</td>\n",
       "      <td>eb7abf5f00d2dd1</td>\n",
       "      <td>NaN</td>\n",
       "      <td>M</td>\n",
       "    </tr>\n",
       "    <tr>\n",
       "      <th>32594</th>\n",
       "      <td>-1</td>\n",
       "      <td>@wanadoo.fr</td>\n",
       "      <td>f7885ad36a637f4</td>\n",
       "      <td>NaN</td>\n",
       "      <td>NaN</td>\n",
       "    </tr>\n",
       "    <tr>\n",
       "      <th>32730</th>\n",
       "      <td>1973</td>\n",
       "      <td>@wanadoo.fr</td>\n",
       "      <td>acae273a5a5c88b</td>\n",
       "      <td>NaN</td>\n",
       "      <td>M</td>\n",
       "    </tr>\n",
       "  </tbody>\n",
       "</table>\n",
       "</div>"
      ],
      "text/plain": [
       "        yob            domain        firstname  zipcode gender\n",
       "402    1977          @free.fr  91ab7b369d48cd0      NaN    NaN\n",
       "419      -1        @orange.fr  d41d8cd98f00b20      NaN    NaN\n",
       "2901   1968          @free.fr  d41d8cd98f00b20      NaN    NaN\n",
       "4844     -1       @wanadoo.fr  d41d8cd98f00b20      NaN    NaN\n",
       "5030   1970  @netcourrier.com  d41d8cd98f00b20      NaN      M\n",
       "12906  1977      @hotmail.com  6cb528d1b005724      NaN      M\n",
       "27470  1975     @aliceadsl.fr  2a4ac4d8e4ebdf7      NaN      F\n",
       "27497  1981         @yahoo.fr  9b22e8ac450bf8d      NaN    NaN\n",
       "27948    -1          @free.fr  8f8c4ba92dab870      NaN      M\n",
       "28014    -1      @hotmail.com  c57f431343f100b      NaN    NaN\n",
       "28180  1985      @hotmail.com  b71985397688d6f      NaN      M\n",
       "28436  1980      @hotmail.com  efb02011d94efa8      NaN      F\n",
       "29856  1978       @wanadoo.fr  0acf4539a14b3aa      NaN      M\n",
       "30196  1961       @wanadoo.fr  9a6663f1bf0c560      NaN      M\n",
       "30321  1900          @aol.com  0cbe7ae50f7d9b5      NaN      F\n",
       "30353    -1          @msn.com  26253c50741faa9      NaN      M\n",
       "31619    -1         @yahoo.fr  8c08dc529eccf42      NaN    NaN\n",
       "31970  1900       @bluewin.ch  eb7abf5f00d2dd1      NaN      M\n",
       "32594    -1       @wanadoo.fr  f7885ad36a637f4      NaN    NaN\n",
       "32730  1973       @wanadoo.fr  acae273a5a5c88b      NaN      M"
      ]
     },
     "execution_count": 78,
     "metadata": {},
     "output_type": "execute_result"
    }
   ],
   "source": [
    "empty_zipcode_rows = df[df['zipcode'].isna() | (df['zipcode'].astype(str).str.strip() == \"\")]\n",
    " \n",
    "# Print the first 20 such rows\n",
    "empty_zipcode_rows.head(20)"
   ]
  },
  {
   "cell_type": "markdown",
   "metadata": {},
   "source": [
    " Replacing the -1 in 'yob' column with NaN values because the columns has no missing value so i consider -1 as missing value in 'yob' column so that it can be imputed properly.\n"
   ]
  },
  {
   "cell_type": "code",
   "execution_count": 79,
   "metadata": {},
   "outputs": [],
   "source": [
    "#  Replace -1 in 'yob' with NaN\n",
    "if 'yob' in df.columns:\n",
    "    df['yob'] = df['yob'].apply(lambda x: np.nan if x == -1 else x)"
   ]
  },
  {
   "cell_type": "code",
   "execution_count": 80,
   "metadata": {},
   "outputs": [
    {
     "data": {
      "text/plain": [
       "yob          800000\n",
       "domain            0\n",
       "firstname         0\n",
       "zipcode       17194\n",
       "gender       804954\n",
       "dtype: int64"
      ]
     },
     "execution_count": 80,
     "metadata": {},
     "output_type": "execute_result"
    }
   ],
   "source": [
    "df.isnull().sum()"
   ]
  },
  {
   "cell_type": "markdown",
   "metadata": {},
   "source": [
    "The below code is to identify the 0's value in zipcode and also considering them as missing."
   ]
  },
  {
   "cell_type": "code",
   "execution_count": 82,
   "metadata": {},
   "outputs": [],
   "source": [
    "df['zipcode'] = df['zipcode'].apply(lambda x: np.nan if x == 0 or str(x).strip() == '00000' else x)"
   ]
  },
  {
   "cell_type": "code",
   "execution_count": 90,
   "metadata": {},
   "outputs": [
    {
     "data": {
      "text/plain": [
       "yob          800000\n",
       "domain            0\n",
       "firstname         0\n",
       "zipcode       18897\n",
       "gender       804954\n",
       "dtype: int64"
      ]
     },
     "execution_count": 90,
     "metadata": {},
     "output_type": "execute_result"
    }
   ],
   "source": [
    "df.isnull().sum()"
   ]
  },
  {
   "cell_type": "markdown",
   "metadata": {},
   "source": [
    "After the 0's finding zipcode missing values increases to 18897."
   ]
  },
  {
   "cell_type": "markdown",
   "metadata": {},
   "source": [
    "Finding the columns in the dataset that contain missing values."
   ]
  },
  {
   "cell_type": "code",
   "execution_count": 83,
   "metadata": {},
   "outputs": [
    {
     "data": {
      "text/plain": [
       "['yob', 'zipcode', 'gender']"
      ]
     },
     "execution_count": 83,
     "metadata": {},
     "output_type": "execute_result"
    }
   ],
   "source": [
    "# Identify columns with missing values\n",
    "columns_with_missing = df.columns[df.isna().any()].tolist()\n",
    "columns_with_missing"
   ]
  },
  {
   "cell_type": "markdown",
   "metadata": {},
   "source": [
    "These 3 columns have missing values in our dataset."
   ]
  },
  {
   "cell_type": "markdown",
   "metadata": {},
   "source": [
    "For model performace evaluation\n",
    "the regression evaluation for the column which has numeric values.\n",
    "classification evaluation i used for the columns having categorical values."
   ]
  },
  {
   "cell_type": "code",
   "execution_count": null,
   "metadata": {},
   "outputs": [],
   "source": [
    "# this code is to evaluate the functions ......\n",
    "# It will tell us that what is the performace of our model.\n",
    "def evaluate_regression(y_true, y_pred):\n",
    "    rmse = np.sqrt(mean_squared_error(y_true, y_pred))\n",
    "    print(f\" RMSE (yob): {rmse:.2f}\")\n",
    "\n",
    "def evaluate_classification(y_true, y_pred):\n",
    "    acc = accuracy_score(y_true, y_pred)\n",
    "    precision = precision_score(y_true, y_pred, average='weighted', zero_division=0)\n",
    "    f1 = f1_score(y_true, y_pred, average='weighted', zero_division=0)\n",
    "    print(f\" Accuracy: {acc:.4f}\")\n",
    "    print(f\" Precision: {precision:.4f}\")\n",
    "    print(f\" F1 Score: {f1:.4f}\")\n"
   ]
  },
  {
   "cell_type": "markdown",
   "metadata": {},
   "source": [
    "Using machine learning predictions.\n"
   ]
  },
  {
   "cell_type": "markdown",
   "metadata": {},
   "source": [
    "This part of the code is preparing the data so that a machine learning model can predict and fill in the missing values of a specific column. First, it creates a copy of the dataset to avoid changing the original data. Then, it separates the rows into two groups: one where the target column has known (non-missing) values, and one where the values are missing. If either group is empty, the function simply returns the original data. To make the process faster and use less memory, it randomly selects up to 50,000 rows from the known data for training. After that, it splits the known data into features (independent variables) and labels (the column we want to predict). It also prepares the unknown data’s features so the model can later use them to make predictions. This setup is essential for using machine learning to fill in the missing values accurately."
   ]
  },
  {
   "cell_type": "markdown",
   "metadata": {},
   "source": [
    "It also fills any missing values in the input features. If the target column is yob, it uses a regression model (Ridge) since it is numeric. For other columns, it uses a classification model (Random Forest), and encodes the categorical data."
   ]
  },
  {
   "cell_type": "markdown",
   "metadata": {},
   "source": [
    "It builds a preprocessing pipeline to scale numeric data and encode categorical data before training the model. If the column is something else (assumed categorical), it uses a classification model (Random Forest). For categorical columns, it also encodes all string labels using LabelEncoder. After the model is trained, it predicts the missing values and fills them back into the original DataFrame. Finally, the updated DataFrame with the missing values filled in is returned. This function helps automate the imputation process intelligently, choosing the right model based on the data type and handling a variety of missing data scenarios efficiently."
   ]
  },
  {
   "cell_type": "code",
   "execution_count": null,
   "metadata": {},
   "outputs": [],
   "source": [
    "def predict_and_fill_extrapolation(df, target_column, sample_size=50000):\n",
    "    df = df.copy()\n",
    "    known = df[df[target_column].notna()]\n",
    "    unknown = df[df[target_column].isna()]\n",
    "    if known.empty or unknown.empty:\n",
    "        return df\n",
    "\n",
    "    if len(known) > sample_size:\n",
    "        known = known.sample(n=sample_size, random_state=42)\n",
    "            \n",
    "    X_known = known.drop(columns=[target_column]) # keeping all columns except the target column as input features for the model\n",
    "    y_known = known[target_column]\n",
    "    X_unknown = unknown.drop(columns=[target_column])\n",
    "\n",
    "    # Filling the missing data in features\n",
    "    for col in X_known.columns:\n",
    "        if X_known[col].isna().any() or X_unknown[col].isna().any():\n",
    "            fill_val = X_known[col].mode()[0] if X_known[col].dtype == 'object' else X_known[col].median()\n",
    "            X_known[col] = X_known[col].fillna(fill_val)\n",
    "            X_unknown[col] = X_unknown[col].fillna(fill_val)\n",
    "\n",
    "    if target_column == 'yob':\n",
    "        # Separating the features by the types of column data\n",
    "        numeric_features = X_known.select_dtypes(include=[np.number]).columns.tolist()\n",
    "        categorical_features = X_known.select_dtypes(exclude=[np.number]).columns.tolist()\n",
    "\n",
    "        # Preprocessor using columntransformer which allows you to apply different transformations to different columns at the same time\n",
    "        # defining a preprocessing pipeline to prepare your features before sending them to the model\n",
    "        preprocessor = ColumnTransformer(transformers=[\n",
    "            ('num', StandardScaler(), numeric_features),\n",
    "            ('cat', OneHotEncoder(handle_unknown='ignore'), categorical_features)\n",
    "        ])\n",
    "\n",
    "        # Ridge Regression\n",
    "        model = make_pipeline(preprocessor, Ridge(alpha=1.0)) #alpha=1.0 controls the regularization strength (1.0 is a standard starting point)\n",
    "        model.fit(X_known, y_known)\n",
    "        y_pred = np.round(model.predict(X_unknown)).astype(int)\n",
    "\n",
    "        print(f\"\\nEvaluating Ridge regression model for: {target_column}\")\n",
    "        evaluate_regression(y_known, model.predict(X_known))\n",
    "\n",
    "    else:\n",
    "        # Classification..................... \n",
    "        for col in X_known.columns:\n",
    "            if X_known[col].dtype == 'object':\n",
    "                le = LabelEncoder()\n",
    "                X_known[col] = le.fit_transform(X_known[col].astype(str))\n",
    "                X_unknown[col] = X_unknown[col].astype(str)\n",
    "                X_unknown[col] = X_unknown[col].apply(lambda x: x if x in le.classes_ else le.classes_[0])\n",
    "                X_unknown[col] = le.transform(X_unknown[col])\n",
    "\n",
    "        le_target = LabelEncoder()\n",
    "        y_encoded = le_target.fit_transform(y_known.astype(str))\n",
    "\n",
    "        model = RandomForestClassifier(\n",
    "            n_estimators=30,                     #### This sets the number of trees in the forest to 30\n",
    "            max_depth=15,                        ### Each tree can grow up to a maximum depth of 15\n",
    "            class_weight='balanced_subsample',  ### Adjusts weights for imbalanced classes, but per bootstrap sample\n",
    "            random_state=42                     ###Sets the seed for random number generation, ensuring reproducible results\n",
    "        )\n",
    "        model.fit(X_known, y_encoded)\n",
    "        y_pred_encoded = model.predict(X_unknown)\n",
    "\n",
    "        print(f\"\\nEvaluating classification model for: {target_column}\")\n",
    "        evaluate_classification(y_encoded, model.predict(X_known))\n",
    "\n",
    "        valid_classes = list(le_target.classes_)\n",
    "        fallback = valid_classes[0]\n",
    "        y_pred = [valid_classes[idx] if 0 <= idx < len(valid_classes) else fallback for idx in y_pred_encoded]\n",
    "\n",
    "    # Fill in the missing values\n",
    "    df.loc[df[target_column].isna(), target_column] = y_pred\n",
    "    return df"
   ]
  },
  {
   "cell_type": "markdown",
   "metadata": {},
   "source": [
    "Loops through all columns with missing data and fills them using the prediction model."
   ]
  },
  {
   "cell_type": "markdown",
   "metadata": {},
   "source": [
    "In this section of code I have applied the prediction for all columns with missing values\n",
    "also to make sure that the values of yob column is with the int datatype.\n",
    "And as the format of zipcode is for 5 digit so make sure that after the prediction the zipcode would be of 5 digit. As in france there are many zipcodes which has 0 in the beginning like they are starting from 0 in this code i make sure that if the prediction is getting a value like 6600 as it is a zipcode of france so the value would 06600 with the correct format.\n",
    "After the prediction it will fill the missing values in the columns."
   ]
  },
  {
   "cell_type": "code",
   "execution_count": null,
   "metadata": {},
   "outputs": [
    {
     "name": "stdout",
     "output_type": "stream",
     "text": [
      "\n",
      "Filling missing values in: yob\n",
      "\n",
      "Evaluating Ridge regression model for: yob\n",
      " RMSE (yob): 10.39\n",
      "\n",
      "Filling missing values in: zipcode\n",
      "\n",
      "Evaluating classification model for: zipcode\n",
      " Accuracy: 0.2056\n",
      " Precision: 0.5527\n",
      " F1 Score: 0.2284\n",
      "\n",
      "Filling missing values in: gender\n",
      "\n",
      "Evaluating classification model for: gender\n",
      " Accuracy: 0.8647\n",
      " Precision: 0.8701\n",
      " F1 Score: 0.8647\n",
      "\n",
      "All missing values filled. File saved to: C:\\\\Users\\\\musta\\\\Desktop\\\\Costory_Anees_Ahmad\\\\dataset\\\\extrapolation_final_.csv\n"
     ]
    }
   ],
   "source": [
    "### filling the missing values in column after the prediction\n",
    "df_filled = df.copy()\n",
    "for col in columns_with_missing:\n",
    "    print(f\"\\nFilling missing values in: {col}\")\n",
    "    df_filled = predict_and_fill_extrapolation(df_filled, col)\n",
    "\n",
    "# This code is for after the processing or prediction it will make sure not to break the format of zipcode column.\n",
    "if 'zipcode' in df_filled.columns:\n",
    "    df_filled['zipcode'] = df_filled['zipcode'].apply(\n",
    "        lambda x: str(int(float(x))).zfill(5) if pd.notna(x) else '00000'\n",
    "    )\n",
    "#### This is for yob column because the values after process must be in the integers\n",
    "if 'yob' in df_filled.columns:\n",
    "    df_filled['yob'] = df_filled['yob'].fillna(df_filled['yob'].median()).astype(int)\n",
    "\n",
    "#  Save Final Output ing the extrapolation_final.csv by giving a path of folder.\n",
    "output_path = r\"C:\\\\Users\\\\musta\\\\Desktop\\\\Costory_Anees_Ahmad\\\\dataset\\\\extrapolation_final_.csv\"\n",
    "df_filled.to_csv(output_path, index=False)\n",
    "print(f\"\\nAll missing values filled. File saved to: {output_path}\")"
   ]
  },
  {
   "cell_type": "markdown",
   "metadata": {},
   "source": [
    "For results:"
   ]
  },
  {
   "cell_type": "markdown",
   "metadata": {},
   "source": [
    "During the process, missing values in the columns yob, zipcode, and gender were filled using machine learning models. Below is a summary and interpretation of the model performance for each:\n",
    "For RMSE: its 10.39 for YOB column with an average error of ~11 years. \n",
    "For zipcode accuracy is 20% , precision = 55%, f1 score = 22%. For this according to me these are the good results because the zipcode missing values as compare to the data are not alot so for the large dataset of 2M i only have missing values in thousands so results are considerable.\n",
    "\n",
    "For Gender: The model predicted gender with more than 80% accuracy, showing reliable and balanced performance. "
   ]
  },
  {
   "cell_type": "markdown",
   "metadata": {},
   "source": [
    "I have tried to predict these values with another models like hisgradientboostingclassifier, gradinetboostingregresser, linear regression, LGBM, randomforest but the results of them were not satisfying specially for the zipcode column. Most of them were unable to predict the missing values from that column. Specially for the yob column the prediction of those models were not satisfying the demands. By using ridge I am getting the better results for yob and with randomforest classifier i am getting better results for gender and zipcode."
   ]
  }
 ],
 "metadata": {
  "kernelspec": {
   "display_name": "Python 3",
   "language": "python",
   "name": "python3"
  },
  "language_info": {
   "codemirror_mode": {
    "name": "ipython",
    "version": 3
   },
   "file_extension": ".py",
   "mimetype": "text/x-python",
   "name": "python",
   "nbconvert_exporter": "python",
   "pygments_lexer": "ipython3",
   "version": "3.11.9"
  }
 },
 "nbformat": 4,
 "nbformat_minor": 2
}
